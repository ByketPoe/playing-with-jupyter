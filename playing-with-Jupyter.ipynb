{
 "cells": [
  {
   "cell_type": "code",
   "execution_count": 6,
   "id": "1a864fcd-ccd4-4271-8f5f-963d3ee05f0d",
   "metadata": {},
   "outputs": [
    {
     "name": "stdout",
     "output_type": "stream",
     "text": [
      "whoa, jupyter! \n"
     ]
    }
   ],
   "source": [
    "message = 'whoa, jupyter! '\n",
    "print(message)\n"
   ]
  },
  {
   "cell_type": "code",
   "execution_count": 7,
   "id": "b6d7c3b3-e24a-4ffe-bc71-992036f282c1",
   "metadata": {},
   "outputs": [
    {
     "name": "stdout",
     "output_type": "stream",
     "text": [
      "whoa, jupyter! whoa, jupyter! whoa, jupyter! whoa, jupyter! whoa, jupyter! \n"
     ]
    }
   ],
   "source": [
    "print (message * 5)"
   ]
  },
  {
   "cell_type": "markdown",
   "id": "3df9256e-2142-499d-bed1-77fec8f7222c",
   "metadata": {},
   "source": [
    "# Now is the winter of our discontent\n",
    "- Why?\n",
    "- Pandemic is over\n",
    "- It should be winter of content... \n",
    "\n",
    "![](https://www.pinclipart.com/picdir/middle/449-4494479_moogle-png-final-fantasy-mog-png-clipart.png)\n",
    "\n",
    "**Moogle!**"
   ]
  },
  {
   "cell_type": "code",
   "execution_count": null,
   "id": "0481609e-3f6d-4e5d-a866-c4bc474c27c5",
   "metadata": {},
   "outputs": [],
   "source": []
  }
 ],
 "metadata": {
  "kernelspec": {
   "display_name": "Python 3",
   "language": "python",
   "name": "python3"
  },
  "language_info": {
   "codemirror_mode": {
    "name": "ipython",
    "version": 3
   },
   "file_extension": ".py",
   "mimetype": "text/x-python",
   "name": "python",
   "nbconvert_exporter": "python",
   "pygments_lexer": "ipython3",
   "version": "3.8.8"
  }
 },
 "nbformat": 4,
 "nbformat_minor": 5
}
